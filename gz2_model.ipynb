{
  "nbformat": 4,
  "nbformat_minor": 0,
  "metadata": {
    "colab": {
      "provenance": [],
      "gpuType": "T4",
      "authorship_tag": "ABX9TyNKlYJgrhjXWtLwazBSYepg",
      "include_colab_link": true
    },
    "kernelspec": {
      "name": "python3",
      "display_name": "Python 3"
    },
    "language_info": {
      "name": "python"
    },
    "accelerator": "TPU",
    "gpuClass": "standard"
  },
  "cells": [
    {
      "cell_type": "markdown",
      "metadata": {
        "id": "view-in-github",
        "colab_type": "text"
      },
      "source": [
        "<a href=\"https://colab.research.google.com/github/siddcodes11/galaxy-classification/blob/classification_model/gz2_model.ipynb\" target=\"_parent\"><img src=\"https://colab.research.google.com/assets/colab-badge.svg\" alt=\"Open In Colab\"/></a>"
      ]
    },
    {
      "cell_type": "code",
      "execution_count": null,
      "metadata": {
        "id": "Kkgir3L3ebK7"
      },
      "outputs": [],
      "source": [
        "import logging\n",
        "\n",
        "logging.basicConfig(level=logging.INFO)"
      ]
    },
    {
      "cell_type": "code",
      "source": [
        "!git clone https://github.com/mwalmsley/zoobot.git"
      ],
      "metadata": {
        "colab": {
          "base_uri": "https://localhost:8080/"
        },
        "id": "EdT1t1URnYMC",
        "outputId": "d75e8c58-b37f-4028-e63c-3b22d971bad3"
      },
      "execution_count": null,
      "outputs": [
        {
          "output_type": "stream",
          "name": "stdout",
          "text": [
            "Cloning into 'zoobot'...\n",
            "remote: Enumerating objects: 8206, done.\u001b[K\n",
            "remote: Counting objects: 100% (2194/2194), done.\u001b[K\n",
            "remote: Compressing objects: 100% (690/690), done.\u001b[K\n",
            "remote: Total 8206 (delta 1521), reused 2161 (delta 1494), pack-reused 6012\u001b[K\n",
            "Receiving objects: 100% (8206/8206), 334.15 MiB | 23.86 MiB/s, done.\n",
            "Resolving deltas: 100% (5112/5112), done.\n"
          ]
        }
      ]
    },
    {
      "cell_type": "code",
      "source": [
        "pip install -e \"zoobot[pytorch_cu113]\" --extra-index-url https://download.pytorch.org/whl/cu113\n"
      ],
      "metadata": {
        "colab": {
          "base_uri": "https://localhost:8080/"
        },
        "id": "vYPzKIfWnidY",
        "outputId": "d716e897-05cf-452e-8dca-9ea5aea7eaf3"
      },
      "execution_count": null,
      "outputs": [
        {
          "output_type": "stream",
          "name": "stdout",
          "text": [
            "Looking in indexes: https://pypi.org/simple, https://us-python.pkg.dev/colab-wheels/public/simple/, https://download.pytorch.org/whl/cu113\n",
            "Obtaining file:///content/zoobot\n",
            "  Installing build dependencies ... \u001b[?25l\u001b[?25hdone\n",
            "  Checking if build backend supports build_editable ... \u001b[?25l\u001b[?25hdone\n",
            "  Getting requirements to build editable ... \u001b[?25l\u001b[?25hdone\n",
            "  Preparing editable metadata (pyproject.toml) ... \u001b[?25l\u001b[?25hdone\n",
            "Requirement already satisfied: scipy in /usr/local/lib/python3.9/dist-packages (from zoobot==1.0.2) (1.10.1)\n",
            "Requirement already satisfied: pandas in /usr/local/lib/python3.9/dist-packages (from zoobot==1.0.2) (1.5.3)\n",
            "Collecting wandb\n",
            "  Downloading wandb-0.14.2-py3-none-any.whl (2.0 MB)\n",
            "\u001b[2K     \u001b[90m━━━━━━━━━━━━━━━━━━━━━━━━━━━━━━━━━━━━━━━━\u001b[0m \u001b[32m2.0/2.0 MB\u001b[0m \u001b[31m31.1 MB/s\u001b[0m eta \u001b[36m0:00:00\u001b[0m\n",
            "\u001b[?25hRequirement already satisfied: scikit-learn>=1.0.2 in /usr/local/lib/python3.9/dist-packages (from zoobot==1.0.2) (1.2.2)\n",
            "Requirement already satisfied: astropy in /usr/local/lib/python3.9/dist-packages (from zoobot==1.0.2) (5.2.2)\n",
            "Requirement already satisfied: pyarrow in /usr/local/lib/python3.9/dist-packages (from zoobot==1.0.2) (9.0.0)\n",
            "Collecting galaxy-datasets==0.0.12\n",
            "  Downloading galaxy_datasets-0.0.12-py3-none-any.whl (51 kB)\n",
            "\u001b[2K     \u001b[90m━━━━━━━━━━━━━━━━━━━━━━━━━━━━━━━━━━━━━━━━\u001b[0m \u001b[32m51.3/51.3 kB\u001b[0m \u001b[31m6.3 MB/s\u001b[0m eta \u001b[36m0:00:00\u001b[0m\n",
            "\u001b[?25hRequirement already satisfied: numpy in /usr/local/lib/python3.9/dist-packages (from zoobot==1.0.2) (1.22.4)\n",
            "Collecting setuptools==59.5.0\n",
            "  Downloading setuptools-59.5.0-py3-none-any.whl (952 kB)\n",
            "\u001b[2K     \u001b[90m━━━━━━━━━━━━━━━━━━━━━━━━━━━━━━━━━━━━━━\u001b[0m \u001b[32m952.4/952.4 kB\u001b[0m \u001b[31m61.5 MB/s\u001b[0m eta \u001b[36m0:00:00\u001b[0m\n",
            "\u001b[?25hRequirement already satisfied: h5py in /usr/local/lib/python3.9/dist-packages (from zoobot==1.0.2) (3.8.0)\n",
            "Requirement already satisfied: tqdm in /usr/local/lib/python3.9/dist-packages (from zoobot==1.0.2) (4.65.0)\n",
            "Requirement already satisfied: scikit-image>=0.19.2 in /usr/local/lib/python3.9/dist-packages (from zoobot==1.0.2) (0.19.3)\n",
            "Requirement already satisfied: matplotlib in /usr/local/lib/python3.9/dist-packages (from zoobot==1.0.2) (3.7.1)\n",
            "Requirement already satisfied: pillow in /usr/local/lib/python3.9/dist-packages (from zoobot==1.0.2) (8.4.0)\n",
            "Collecting torchaudio==0.12.1\n",
            "  Downloading https://download.pytorch.org/whl/cu113/torchaudio-0.12.1%2Bcu113-cp39-cp39-linux_x86_64.whl (3.8 MB)\n",
            "\u001b[2K     \u001b[90m━━━━━━━━━━━━━━━━━━━━━━━━━━━━━━━━━━━━━━━━\u001b[0m \u001b[32m3.8/3.8 MB\u001b[0m \u001b[31m51.7 MB/s\u001b[0m eta \u001b[36m0:00:00\u001b[0m\n",
            "\u001b[?25hCollecting pyro-ppl==1.8.0\n",
            "  Downloading pyro_ppl-1.8.0-py3-none-any.whl (713 kB)\n",
            "\u001b[2K     \u001b[90m━━━━━━━━━━━━━━━━━━━━━━━━━━━━━━━━━━━━━━\u001b[0m \u001b[32m713.2/713.2 kB\u001b[0m \u001b[31m48.1 MB/s\u001b[0m eta \u001b[36m0:00:00\u001b[0m\n",
            "\u001b[?25hCollecting torch==1.12.1+cu113\n",
            "  Downloading https://download.pytorch.org/whl/cu113/torch-1.12.1%2Bcu113-cp39-cp39-linux_x86_64.whl (1837.7 MB)\n",
            "\u001b[2K     \u001b[90m━━━━━━━━━━━━━━━━━━━━━━━━━━━━━━━━━━━━━━━━\u001b[0m \u001b[32m1.8/1.8 GB\u001b[0m \u001b[31m933.9 kB/s\u001b[0m eta \u001b[36m0:00:00\u001b[0m\n",
            "\u001b[?25hCollecting torchmetrics==0.11.0\n",
            "  Downloading torchmetrics-0.11.0-py3-none-any.whl (512 kB)\n",
            "\u001b[2K     \u001b[90m━━━━━━━━━━━━━━━━━━━━━━━━━━━━━━━━━━━━━━\u001b[0m \u001b[32m512.4/512.4 kB\u001b[0m \u001b[31m44.6 MB/s\u001b[0m eta \u001b[36m0:00:00\u001b[0m\n",
            "\u001b[?25hCollecting timm\n",
            "  Downloading timm-0.6.13-py3-none-any.whl (549 kB)\n",
            "\u001b[2K     \u001b[90m━━━━━━━━━━━━━━━━━━━━━━━━━━━━━━━━━━━━━━\u001b[0m \u001b[32m549.1/549.1 kB\u001b[0m \u001b[31m49.5 MB/s\u001b[0m eta \u001b[36m0:00:00\u001b[0m\n",
            "\u001b[?25hCollecting torchvision==0.13.1+cu113\n",
            "  Downloading https://download.pytorch.org/whl/cu113/torchvision-0.13.1%2Bcu113-cp39-cp39-linux_x86_64.whl (23.4 MB)\n",
            "\u001b[2K     \u001b[90m━━━━━━━━━━━━━━━━━━━━━━━━━━━━━━━━━━━━━━━━\u001b[0m \u001b[32m23.4/23.4 MB\u001b[0m \u001b[31m66.7 MB/s\u001b[0m eta \u001b[36m0:00:00\u001b[0m\n",
            "\u001b[?25hCollecting simplejpeg\n",
            "  Downloading simplejpeg-1.6.6-cp39-cp39-manylinux_2_17_x86_64.manylinux2014_x86_64.manylinux_2_24_x86_64.whl (276 kB)\n",
            "\u001b[2K     \u001b[90m━━━━━━━━━━━━━━━━━━━━━━━━━━━━━━━━━━━━━━\u001b[0m \u001b[32m276.7/276.7 kB\u001b[0m \u001b[31m28.5 MB/s\u001b[0m eta \u001b[36m0:00:00\u001b[0m\n",
            "\u001b[?25hRequirement already satisfied: albumentations in /usr/local/lib/python3.9/dist-packages (from zoobot==1.0.2) (1.2.1)\n",
            "Collecting pytorch-lightning>=2.0.0\n",
            "  Downloading pytorch_lightning-2.0.1.post0-py3-none-any.whl (718 kB)\n",
            "\u001b[2K     \u001b[90m━━━━━━━━━━━━━━━━━━━━━━━━━━━━━━━━━━━━━━\u001b[0m \u001b[32m718.6/718.6 kB\u001b[0m \u001b[31m57.3 MB/s\u001b[0m eta \u001b[36m0:00:00\u001b[0m\n",
            "\u001b[?25hCollecting pyro-api>=0.1.1\n",
            "  Downloading pyro_api-0.1.2-py3-none-any.whl (11 kB)\n",
            "Requirement already satisfied: opt-einsum>=2.3.2 in /usr/local/lib/python3.9/dist-packages (from pyro-ppl==1.8.0->zoobot==1.0.2) (3.3.0)\n",
            "Requirement already satisfied: typing-extensions in /usr/local/lib/python3.9/dist-packages (from torch==1.12.1+cu113->zoobot==1.0.2) (4.5.0)\n",
            "Requirement already satisfied: packaging in /usr/local/lib/python3.9/dist-packages (from torchmetrics==0.11.0->zoobot==1.0.2) (23.0)\n",
            "Requirement already satisfied: requests in /usr/local/lib/python3.9/dist-packages (from torchvision==0.13.1+cu113->zoobot==1.0.2) (2.27.1)\n",
            "Collecting lightning-utilities>=0.7.0\n",
            "  Downloading lightning_utilities-0.8.0-py3-none-any.whl (20 kB)\n",
            "Requirement already satisfied: PyYAML>=5.4 in /usr/local/lib/python3.9/dist-packages (from pytorch-lightning>=2.0.0->zoobot==1.0.2) (6.0)\n",
            "Requirement already satisfied: fsspec[http]>2021.06.0 in /usr/local/lib/python3.9/dist-packages (from pytorch-lightning>=2.0.0->zoobot==1.0.2) (2023.4.0)\n",
            "Requirement already satisfied: imageio>=2.4.1 in /usr/local/lib/python3.9/dist-packages (from scikit-image>=0.19.2->zoobot==1.0.2) (2.25.1)\n",
            "Requirement already satisfied: PyWavelets>=1.1.1 in /usr/local/lib/python3.9/dist-packages (from scikit-image>=0.19.2->zoobot==1.0.2) (1.4.1)\n",
            "Requirement already satisfied: networkx>=2.2 in /usr/local/lib/python3.9/dist-packages (from scikit-image>=0.19.2->zoobot==1.0.2) (3.1)\n",
            "Requirement already satisfied: tifffile>=2019.7.26 in /usr/local/lib/python3.9/dist-packages (from scikit-image>=0.19.2->zoobot==1.0.2) (2023.3.21)\n",
            "Requirement already satisfied: threadpoolctl>=2.0.0 in /usr/local/lib/python3.9/dist-packages (from scikit-learn>=1.0.2->zoobot==1.0.2) (3.1.0)\n",
            "Requirement already satisfied: joblib>=1.1.1 in /usr/local/lib/python3.9/dist-packages (from scikit-learn>=1.0.2->zoobot==1.0.2) (1.2.0)\n",
            "Requirement already satisfied: qudida>=0.0.4 in /usr/local/lib/python3.9/dist-packages (from albumentations->zoobot==1.0.2) (0.0.4)\n",
            "Requirement already satisfied: opencv-python-headless>=4.1.1 in /usr/local/lib/python3.9/dist-packages (from albumentations->zoobot==1.0.2) (4.7.0.72)\n",
            "Requirement already satisfied: pyerfa>=2.0 in /usr/local/lib/python3.9/dist-packages (from astropy->zoobot==1.0.2) (2.0.0.3)\n",
            "Requirement already satisfied: fonttools>=4.22.0 in /usr/local/lib/python3.9/dist-packages (from matplotlib->zoobot==1.0.2) (4.39.3)\n",
            "Requirement already satisfied: importlib-resources>=3.2.0 in /usr/local/lib/python3.9/dist-packages (from matplotlib->zoobot==1.0.2) (5.12.0)\n",
            "Requirement already satisfied: contourpy>=1.0.1 in /usr/local/lib/python3.9/dist-packages (from matplotlib->zoobot==1.0.2) (1.0.7)\n",
            "Requirement already satisfied: python-dateutil>=2.7 in /usr/local/lib/python3.9/dist-packages (from matplotlib->zoobot==1.0.2) (2.8.2)\n",
            "Requirement already satisfied: pyparsing>=2.3.1 in /usr/local/lib/python3.9/dist-packages (from matplotlib->zoobot==1.0.2) (3.0.9)\n",
            "Requirement already satisfied: cycler>=0.10 in /usr/local/lib/python3.9/dist-packages (from matplotlib->zoobot==1.0.2) (0.11.0)\n",
            "Requirement already satisfied: kiwisolver>=1.0.1 in /usr/local/lib/python3.9/dist-packages (from matplotlib->zoobot==1.0.2) (1.4.4)\n",
            "Requirement already satisfied: pytz>=2020.1 in /usr/local/lib/python3.9/dist-packages (from pandas->zoobot==1.0.2) (2022.7.1)\n",
            "Collecting huggingface-hub\n",
            "  Downloading huggingface_hub-0.13.4-py3-none-any.whl (200 kB)\n",
            "\u001b[2K     \u001b[90m━━━━━━━━━━━━━━━━━━━━━━━━━━━━━━━━━━━━━━\u001b[0m \u001b[32m200.1/200.1 kB\u001b[0m \u001b[31m21.9 MB/s\u001b[0m eta \u001b[36m0:00:00\u001b[0m\n",
            "\u001b[?25hRequirement already satisfied: Click!=8.0.0,>=7.0 in /usr/local/lib/python3.9/dist-packages (from wandb->zoobot==1.0.2) (8.1.3)\n",
            "Collecting sentry-sdk>=1.0.0\n",
            "  Downloading sentry_sdk-1.19.1-py2.py3-none-any.whl (199 kB)\n",
            "\u001b[2K     \u001b[90m━━━━━━━━━━━━━━━━━━━━━━━━━━━━━━━━━━━━━━\u001b[0m \u001b[32m199.2/199.2 kB\u001b[0m \u001b[31m23.4 MB/s\u001b[0m eta \u001b[36m0:00:00\u001b[0m\n",
            "\u001b[?25hRequirement already satisfied: psutil>=5.0.0 in /usr/local/lib/python3.9/dist-packages (from wandb->zoobot==1.0.2) (5.9.4)\n",
            "Requirement already satisfied: appdirs>=1.4.3 in /usr/local/lib/python3.9/dist-packages (from wandb->zoobot==1.0.2) (1.4.4)\n",
            "Collecting docker-pycreds>=0.4.0\n",
            "  Downloading docker_pycreds-0.4.0-py2.py3-none-any.whl (9.0 kB)\n",
            "Collecting pathtools\n",
            "  Downloading pathtools-0.1.2.tar.gz (11 kB)\n",
            "  Preparing metadata (setup.py) ... \u001b[?25l\u001b[?25hdone\n",
            "Collecting GitPython!=3.1.29,>=1.0.0\n",
            "  Downloading GitPython-3.1.31-py3-none-any.whl (184 kB)\n",
            "\u001b[2K     \u001b[90m━━━━━━━━━━━━━━━━━━━━━━━━━━━━━━━━━━━━━━\u001b[0m \u001b[32m184.3/184.3 kB\u001b[0m \u001b[31m19.3 MB/s\u001b[0m eta \u001b[36m0:00:00\u001b[0m\n",
            "\u001b[?25hRequirement already satisfied: protobuf!=4.21.0,<5,>=3.15.0 in /usr/local/lib/python3.9/dist-packages (from wandb->zoobot==1.0.2) (3.20.3)\n",
            "Collecting setproctitle\n",
            "  Downloading setproctitle-1.3.2-cp39-cp39-manylinux_2_5_x86_64.manylinux1_x86_64.manylinux_2_17_x86_64.manylinux2014_x86_64.whl (30 kB)\n",
            "Requirement already satisfied: six>=1.4.0 in /usr/local/lib/python3.9/dist-packages (from docker-pycreds>=0.4.0->wandb->zoobot==1.0.2) (1.16.0)\n",
            "Collecting aiohttp!=4.0.0a0,!=4.0.0a1\n",
            "  Downloading aiohttp-3.8.4-cp39-cp39-manylinux_2_17_x86_64.manylinux2014_x86_64.whl (1.0 MB)\n",
            "\u001b[2K     \u001b[90m━━━━━━━━━━━━━━━━━━━━━━━━━━━━━━━━━━━━━━━━\u001b[0m \u001b[32m1.0/1.0 MB\u001b[0m \u001b[31m52.5 MB/s\u001b[0m eta \u001b[36m0:00:00\u001b[0m\n",
            "\u001b[?25hCollecting gitdb<5,>=4.0.1\n",
            "  Downloading gitdb-4.0.10-py3-none-any.whl (62 kB)\n",
            "\u001b[2K     \u001b[90m━━━━━━━━━━━━━━━━━━━━━━━━━━━━━━━━━━━━━━━━\u001b[0m \u001b[32m62.7/62.7 kB\u001b[0m \u001b[31m6.2 MB/s\u001b[0m eta \u001b[36m0:00:00\u001b[0m\n",
            "\u001b[?25hRequirement already satisfied: zipp>=3.1.0 in /usr/local/lib/python3.9/dist-packages (from importlib-resources>=3.2.0->matplotlib->zoobot==1.0.2) (3.15.0)\n",
            "Requirement already satisfied: idna<4,>=2.5 in /usr/local/lib/python3.9/dist-packages (from requests->torchvision==0.13.1+cu113->zoobot==1.0.2) (3.4)\n",
            "Requirement already satisfied: urllib3<1.27,>=1.21.1 in /usr/local/lib/python3.9/dist-packages (from requests->torchvision==0.13.1+cu113->zoobot==1.0.2) (1.26.15)\n",
            "Requirement already satisfied: certifi>=2017.4.17 in /usr/local/lib/python3.9/dist-packages (from requests->torchvision==0.13.1+cu113->zoobot==1.0.2) (2022.12.7)\n",
            "Requirement already satisfied: charset-normalizer~=2.0.0 in /usr/local/lib/python3.9/dist-packages (from requests->torchvision==0.13.1+cu113->zoobot==1.0.2) (2.0.12)\n",
            "Requirement already satisfied: filelock in /usr/local/lib/python3.9/dist-packages (from huggingface-hub->timm->zoobot==1.0.2) (3.11.0)\n",
            "Requirement already satisfied: attrs>=17.3.0 in /usr/local/lib/python3.9/dist-packages (from aiohttp!=4.0.0a0,!=4.0.0a1->fsspec[http]>2021.06.0->pytorch-lightning>=2.0.0->zoobot==1.0.2) (22.2.0)\n",
            "Collecting yarl<2.0,>=1.0\n",
            "  Downloading yarl-1.8.2-cp39-cp39-manylinux_2_17_x86_64.manylinux2014_x86_64.whl (264 kB)\n",
            "\u001b[2K     \u001b[90m━━━━━━━━━━━━━━━━━━━━━━━━━━━━━━━━━━━━━━\u001b[0m \u001b[32m264.6/264.6 kB\u001b[0m \u001b[31m25.0 MB/s\u001b[0m eta \u001b[36m0:00:00\u001b[0m\n",
            "\u001b[?25hCollecting aiosignal>=1.1.2\n",
            "  Downloading aiosignal-1.3.1-py3-none-any.whl (7.6 kB)\n",
            "Collecting multidict<7.0,>=4.5\n",
            "  Downloading multidict-6.0.4-cp39-cp39-manylinux_2_17_x86_64.manylinux2014_x86_64.whl (114 kB)\n",
            "\u001b[2K     \u001b[90m━━━━━━━━━━━━━━━━━━━━━━━━━━━━━━━━━━━━━━\u001b[0m \u001b[32m114.2/114.2 kB\u001b[0m \u001b[31m15.2 MB/s\u001b[0m eta \u001b[36m0:00:00\u001b[0m\n",
            "\u001b[?25hCollecting frozenlist>=1.1.1\n",
            "  Downloading frozenlist-1.3.3-cp39-cp39-manylinux_2_5_x86_64.manylinux1_x86_64.manylinux_2_17_x86_64.manylinux2014_x86_64.whl (158 kB)\n",
            "\u001b[2K     \u001b[90m━━━━━━━━━━━━━━━━━━━━━━━━━━━━━━━━━━━━━━\u001b[0m \u001b[32m158.8/158.8 kB\u001b[0m \u001b[31m20.6 MB/s\u001b[0m eta \u001b[36m0:00:00\u001b[0m\n",
            "\u001b[?25hCollecting async-timeout<5.0,>=4.0.0a3\n",
            "  Downloading async_timeout-4.0.2-py3-none-any.whl (5.8 kB)\n",
            "Collecting smmap<6,>=3.0.1\n",
            "  Downloading smmap-5.0.0-py3-none-any.whl (24 kB)\n",
            "Building wheels for collected packages: zoobot, pathtools\n",
            "  Building editable for zoobot (pyproject.toml) ... \u001b[?25l\u001b[?25hdone\n",
            "  Created wheel for zoobot: filename=zoobot-1.0.2-0.editable-py3-none-any.whl size=19636 sha256=78080ae843630951ab72b9e31c6419515c07d3569616f83f6fd2a55c3d0e3025\n",
            "  Stored in directory: /tmp/pip-ephem-wheel-cache-fia9kuhv/wheels/39/97/99/babc0b1540b00fb58c49189324d224b67a35b76fa6edf183e1\n",
            "  Building wheel for pathtools (setup.py) ... \u001b[?25l\u001b[?25hdone\n",
            "  Created wheel for pathtools: filename=pathtools-0.1.2-py3-none-any.whl size=8807 sha256=032cd970b42bb98f38da6e65b86e6c552956e5f80a6649670926bb07d4edbc17\n",
            "  Stored in directory: /root/.cache/pip/wheels/b7/0a/67/ada2a22079218c75a88361c0782855cc72aebc4d18d0289d05\n",
            "Successfully built zoobot pathtools\n",
            "Installing collected packages: pyro-api, pathtools, torch, smmap, simplejpeg, setuptools, setproctitle, sentry-sdk, multidict, lightning-utilities, galaxy-datasets, frozenlist, docker-pycreds, async-timeout, yarl, torchvision, torchmetrics, torchaudio, pyro-ppl, huggingface-hub, gitdb, aiosignal, timm, GitPython, aiohttp, wandb, zoobot, pytorch-lightning\n",
            "  Attempting uninstall: torch\n",
            "    Found existing installation: torch 2.0.0+cu118\n",
            "    Uninstalling torch-2.0.0+cu118:\n",
            "      Successfully uninstalled torch-2.0.0+cu118\n",
            "  Attempting uninstall: setuptools\n",
            "    Found existing installation: setuptools 67.6.1\n",
            "    Uninstalling setuptools-67.6.1:\n",
            "      Successfully uninstalled setuptools-67.6.1\n",
            "  Attempting uninstall: torchvision\n",
            "    Found existing installation: torchvision 0.15.1+cu118\n",
            "    Uninstalling torchvision-0.15.1+cu118:\n",
            "      Successfully uninstalled torchvision-0.15.1+cu118\n",
            "  Attempting uninstall: torchaudio\n",
            "    Found existing installation: torchaudio 2.0.1+cu118\n",
            "    Uninstalling torchaudio-2.0.1+cu118:\n",
            "      Successfully uninstalled torchaudio-2.0.1+cu118\n",
            "\u001b[31mERROR: pip's dependency resolver does not currently take into account all the packages that are installed. This behaviour is the source of the following dependency conflicts.\n",
            "ipython 7.34.0 requires jedi>=0.16, which is not installed.\n",
            "torchtext 0.15.1 requires torch==2.0.0, but you have torch 1.12.1+cu113 which is incompatible.\n",
            "torchdata 0.6.0 requires torch==2.0.0, but you have torch 1.12.1+cu113 which is incompatible.\n",
            "cvxpy 1.3.1 requires setuptools>65.5.1, but you have setuptools 59.5.0 which is incompatible.\n",
            "arviz 0.15.1 requires setuptools>=60.0.0, but you have setuptools 59.5.0 which is incompatible.\u001b[0m\u001b[31m\n",
            "\u001b[0mSuccessfully installed GitPython-3.1.31 aiohttp-3.8.4 aiosignal-1.3.1 async-timeout-4.0.2 docker-pycreds-0.4.0 frozenlist-1.3.3 galaxy-datasets-0.0.12 gitdb-4.0.10 huggingface-hub-0.13.4 lightning-utilities-0.8.0 multidict-6.0.4 pathtools-0.1.2 pyro-api-0.1.2 pyro-ppl-1.8.0 pytorch-lightning-2.0.1.post0 sentry-sdk-1.19.1 setproctitle-1.3.2 setuptools-59.5.0 simplejpeg-1.6.6 smmap-5.0.0 timm-0.6.13 torch-1.12.1+cu113 torchaudio-0.12.1+cu113 torchmetrics-0.11.0 torchvision-0.13.1+cu113 wandb-0.14.2 yarl-1.8.2 zoobot-1.0.2\n"
          ]
        }
      ]
    },
    {
      "cell_type": "code",
      "source": [
        "!pip install -e /content/zoobot[pytorch_colab]"
      ],
      "metadata": {
        "colab": {
          "base_uri": "https://localhost:8080/"
        },
        "id": "A2OSzCSgGOco",
        "outputId": "e6093408-ad16-438c-c099-136d5c9f2eef"
      },
      "execution_count": null,
      "outputs": [
        {
          "output_type": "stream",
          "name": "stdout",
          "text": [
            "Looking in indexes: https://pypi.org/simple, https://us-python.pkg.dev/colab-wheels/public/simple/\n",
            "Obtaining file:///content/zoobot\n",
            "  Installing build dependencies ... \u001b[?25l\u001b[?25hdone\n",
            "  Checking if build backend supports build_editable ... \u001b[?25l\u001b[?25hdone\n",
            "  Getting requirements to build editable ... \u001b[?25l\u001b[?25hdone\n",
            "  Preparing editable metadata (pyproject.toml) ... \u001b[?25l\u001b[?25hdone\n",
            "Requirement already satisfied: setuptools==59.5.0 in /usr/local/lib/python3.9/dist-packages (from zoobot==1.0.2) (59.5.0)\n",
            "Requirement already satisfied: tqdm in /usr/local/lib/python3.9/dist-packages (from zoobot==1.0.2) (4.65.0)\n",
            "Requirement already satisfied: galaxy-datasets==0.0.12 in /usr/local/lib/python3.9/dist-packages (from zoobot==1.0.2) (0.0.12)\n",
            "Requirement already satisfied: scipy in /usr/local/lib/python3.9/dist-packages (from zoobot==1.0.2) (1.10.1)\n",
            "Requirement already satisfied: numpy in /usr/local/lib/python3.9/dist-packages (from zoobot==1.0.2) (1.22.4)\n",
            "Requirement already satisfied: pillow in /usr/local/lib/python3.9/dist-packages (from zoobot==1.0.2) (8.4.0)\n",
            "Requirement already satisfied: wandb in /usr/local/lib/python3.9/dist-packages (from zoobot==1.0.2) (0.14.2)\n",
            "Requirement already satisfied: astropy in /usr/local/lib/python3.9/dist-packages (from zoobot==1.0.2) (5.2.2)\n",
            "Requirement already satisfied: scikit-image>=0.19.2 in /usr/local/lib/python3.9/dist-packages (from zoobot==1.0.2) (0.19.3)\n",
            "Requirement already satisfied: matplotlib in /usr/local/lib/python3.9/dist-packages (from zoobot==1.0.2) (3.7.1)\n",
            "Requirement already satisfied: pandas in /usr/local/lib/python3.9/dist-packages (from zoobot==1.0.2) (1.5.3)\n",
            "Requirement already satisfied: pyarrow in /usr/local/lib/python3.9/dist-packages (from zoobot==1.0.2) (9.0.0)\n",
            "Requirement already satisfied: h5py in /usr/local/lib/python3.9/dist-packages (from zoobot==1.0.2) (3.8.0)\n",
            "Requirement already satisfied: scikit-learn>=1.0.2 in /usr/local/lib/python3.9/dist-packages (from zoobot==1.0.2) (1.2.2)\n",
            "Requirement already satisfied: pytorch-lightning>=2.0.0 in /usr/local/lib/python3.9/dist-packages (from zoobot==1.0.2) (2.0.1.post0)\n",
            "Requirement already satisfied: torchmetrics==0.11.0 in /usr/local/lib/python3.9/dist-packages (from zoobot==1.0.2) (0.11.0)\n",
            "Requirement already satisfied: albumentations in /usr/local/lib/python3.9/dist-packages (from zoobot==1.0.2) (1.2.1)\n",
            "Requirement already satisfied: timm in /usr/local/lib/python3.9/dist-packages (from zoobot==1.0.2) (0.6.13)\n",
            "Requirement already satisfied: pyro-ppl>=1.8.0 in /usr/local/lib/python3.9/dist-packages (from zoobot==1.0.2) (1.8.0)\n",
            "Requirement already satisfied: simplejpeg in /usr/local/lib/python3.9/dist-packages (from zoobot==1.0.2) (1.6.6)\n",
            "Requirement already satisfied: torch>=1.8.1 in /usr/local/lib/python3.9/dist-packages (from torchmetrics==0.11.0->zoobot==1.0.2) (1.12.1+cu113)\n",
            "Requirement already satisfied: packaging in /usr/local/lib/python3.9/dist-packages (from torchmetrics==0.11.0->zoobot==1.0.2) (23.0)\n",
            "Requirement already satisfied: opt-einsum>=2.3.2 in /usr/local/lib/python3.9/dist-packages (from pyro-ppl>=1.8.0->zoobot==1.0.2) (3.3.0)\n",
            "Requirement already satisfied: pyro-api>=0.1.1 in /usr/local/lib/python3.9/dist-packages (from pyro-ppl>=1.8.0->zoobot==1.0.2) (0.1.2)\n",
            "Requirement already satisfied: lightning-utilities>=0.7.0 in /usr/local/lib/python3.9/dist-packages (from pytorch-lightning>=2.0.0->zoobot==1.0.2) (0.8.0)\n",
            "Requirement already satisfied: fsspec[http]>2021.06.0 in /usr/local/lib/python3.9/dist-packages (from pytorch-lightning>=2.0.0->zoobot==1.0.2) (2023.4.0)\n",
            "Requirement already satisfied: PyYAML>=5.4 in /usr/local/lib/python3.9/dist-packages (from pytorch-lightning>=2.0.0->zoobot==1.0.2) (6.0)\n",
            "Requirement already satisfied: typing-extensions>=4.0.0 in /usr/local/lib/python3.9/dist-packages (from pytorch-lightning>=2.0.0->zoobot==1.0.2) (4.5.0)\n",
            "Requirement already satisfied: networkx>=2.2 in /usr/local/lib/python3.9/dist-packages (from scikit-image>=0.19.2->zoobot==1.0.2) (3.1)\n",
            "Requirement already satisfied: imageio>=2.4.1 in /usr/local/lib/python3.9/dist-packages (from scikit-image>=0.19.2->zoobot==1.0.2) (2.25.1)\n",
            "Requirement already satisfied: PyWavelets>=1.1.1 in /usr/local/lib/python3.9/dist-packages (from scikit-image>=0.19.2->zoobot==1.0.2) (1.4.1)\n",
            "Requirement already satisfied: tifffile>=2019.7.26 in /usr/local/lib/python3.9/dist-packages (from scikit-image>=0.19.2->zoobot==1.0.2) (2023.3.21)\n",
            "Requirement already satisfied: threadpoolctl>=2.0.0 in /usr/local/lib/python3.9/dist-packages (from scikit-learn>=1.0.2->zoobot==1.0.2) (3.1.0)\n",
            "Requirement already satisfied: joblib>=1.1.1 in /usr/local/lib/python3.9/dist-packages (from scikit-learn>=1.0.2->zoobot==1.0.2) (1.2.0)\n",
            "Requirement already satisfied: opencv-python-headless>=4.1.1 in /usr/local/lib/python3.9/dist-packages (from albumentations->zoobot==1.0.2) (4.7.0.72)\n",
            "Requirement already satisfied: qudida>=0.0.4 in /usr/local/lib/python3.9/dist-packages (from albumentations->zoobot==1.0.2) (0.0.4)\n",
            "Requirement already satisfied: pyerfa>=2.0 in /usr/local/lib/python3.9/dist-packages (from astropy->zoobot==1.0.2) (2.0.0.3)\n",
            "Requirement already satisfied: pyparsing>=2.3.1 in /usr/local/lib/python3.9/dist-packages (from matplotlib->zoobot==1.0.2) (3.0.9)\n",
            "Requirement already satisfied: cycler>=0.10 in /usr/local/lib/python3.9/dist-packages (from matplotlib->zoobot==1.0.2) (0.11.0)\n",
            "Requirement already satisfied: importlib-resources>=3.2.0 in /usr/local/lib/python3.9/dist-packages (from matplotlib->zoobot==1.0.2) (5.12.0)\n",
            "Requirement already satisfied: kiwisolver>=1.0.1 in /usr/local/lib/python3.9/dist-packages (from matplotlib->zoobot==1.0.2) (1.4.4)\n",
            "Requirement already satisfied: fonttools>=4.22.0 in /usr/local/lib/python3.9/dist-packages (from matplotlib->zoobot==1.0.2) (4.39.3)\n",
            "Requirement already satisfied: contourpy>=1.0.1 in /usr/local/lib/python3.9/dist-packages (from matplotlib->zoobot==1.0.2) (1.0.7)\n",
            "Requirement already satisfied: python-dateutil>=2.7 in /usr/local/lib/python3.9/dist-packages (from matplotlib->zoobot==1.0.2) (2.8.2)\n",
            "Requirement already satisfied: pytz>=2020.1 in /usr/local/lib/python3.9/dist-packages (from pandas->zoobot==1.0.2) (2022.7.1)\n",
            "Requirement already satisfied: huggingface-hub in /usr/local/lib/python3.9/dist-packages (from timm->zoobot==1.0.2) (0.13.4)\n",
            "Requirement already satisfied: torchvision in /usr/local/lib/python3.9/dist-packages (from timm->zoobot==1.0.2) (0.13.1+cu113)\n",
            "Requirement already satisfied: sentry-sdk>=1.0.0 in /usr/local/lib/python3.9/dist-packages (from wandb->zoobot==1.0.2) (1.19.1)\n",
            "Requirement already satisfied: pathtools in /usr/local/lib/python3.9/dist-packages (from wandb->zoobot==1.0.2) (0.1.2)\n",
            "Requirement already satisfied: appdirs>=1.4.3 in /usr/local/lib/python3.9/dist-packages (from wandb->zoobot==1.0.2) (1.4.4)\n",
            "Requirement already satisfied: protobuf!=4.21.0,<5,>=3.15.0 in /usr/local/lib/python3.9/dist-packages (from wandb->zoobot==1.0.2) (3.20.3)\n",
            "Requirement already satisfied: setproctitle in /usr/local/lib/python3.9/dist-packages (from wandb->zoobot==1.0.2) (1.3.2)\n",
            "Requirement already satisfied: GitPython!=3.1.29,>=1.0.0 in /usr/local/lib/python3.9/dist-packages (from wandb->zoobot==1.0.2) (3.1.31)\n",
            "Requirement already satisfied: docker-pycreds>=0.4.0 in /usr/local/lib/python3.9/dist-packages (from wandb->zoobot==1.0.2) (0.4.0)\n",
            "Requirement already satisfied: requests<3,>=2.0.0 in /usr/local/lib/python3.9/dist-packages (from wandb->zoobot==1.0.2) (2.27.1)\n",
            "Requirement already satisfied: Click!=8.0.0,>=7.0 in /usr/local/lib/python3.9/dist-packages (from wandb->zoobot==1.0.2) (8.1.3)\n",
            "Requirement already satisfied: psutil>=5.0.0 in /usr/local/lib/python3.9/dist-packages (from wandb->zoobot==1.0.2) (5.9.4)\n",
            "Requirement already satisfied: six>=1.4.0 in /usr/local/lib/python3.9/dist-packages (from docker-pycreds>=0.4.0->wandb->zoobot==1.0.2) (1.16.0)\n",
            "Requirement already satisfied: aiohttp!=4.0.0a0,!=4.0.0a1 in /usr/local/lib/python3.9/dist-packages (from fsspec[http]>2021.06.0->pytorch-lightning>=2.0.0->zoobot==1.0.2) (3.8.4)\n",
            "Requirement already satisfied: gitdb<5,>=4.0.1 in /usr/local/lib/python3.9/dist-packages (from GitPython!=3.1.29,>=1.0.0->wandb->zoobot==1.0.2) (4.0.10)\n",
            "Requirement already satisfied: zipp>=3.1.0 in /usr/local/lib/python3.9/dist-packages (from importlib-resources>=3.2.0->matplotlib->zoobot==1.0.2) (3.15.0)\n",
            "Requirement already satisfied: idna<4,>=2.5 in /usr/local/lib/python3.9/dist-packages (from requests<3,>=2.0.0->wandb->zoobot==1.0.2) (3.4)\n",
            "Requirement already satisfied: certifi>=2017.4.17 in /usr/local/lib/python3.9/dist-packages (from requests<3,>=2.0.0->wandb->zoobot==1.0.2) (2022.12.7)\n",
            "Requirement already satisfied: charset-normalizer~=2.0.0 in /usr/local/lib/python3.9/dist-packages (from requests<3,>=2.0.0->wandb->zoobot==1.0.2) (2.0.12)\n",
            "Requirement already satisfied: urllib3<1.27,>=1.21.1 in /usr/local/lib/python3.9/dist-packages (from requests<3,>=2.0.0->wandb->zoobot==1.0.2) (1.26.15)\n",
            "Requirement already satisfied: filelock in /usr/local/lib/python3.9/dist-packages (from huggingface-hub->timm->zoobot==1.0.2) (3.11.0)\n",
            "Requirement already satisfied: multidict<7.0,>=4.5 in /usr/local/lib/python3.9/dist-packages (from aiohttp!=4.0.0a0,!=4.0.0a1->fsspec[http]>2021.06.0->pytorch-lightning>=2.0.0->zoobot==1.0.2) (6.0.4)\n",
            "Requirement already satisfied: yarl<2.0,>=1.0 in /usr/local/lib/python3.9/dist-packages (from aiohttp!=4.0.0a0,!=4.0.0a1->fsspec[http]>2021.06.0->pytorch-lightning>=2.0.0->zoobot==1.0.2) (1.8.2)\n",
            "Requirement already satisfied: aiosignal>=1.1.2 in /usr/local/lib/python3.9/dist-packages (from aiohttp!=4.0.0a0,!=4.0.0a1->fsspec[http]>2021.06.0->pytorch-lightning>=2.0.0->zoobot==1.0.2) (1.3.1)\n",
            "Requirement already satisfied: async-timeout<5.0,>=4.0.0a3 in /usr/local/lib/python3.9/dist-packages (from aiohttp!=4.0.0a0,!=4.0.0a1->fsspec[http]>2021.06.0->pytorch-lightning>=2.0.0->zoobot==1.0.2) (4.0.2)\n",
            "Requirement already satisfied: attrs>=17.3.0 in /usr/local/lib/python3.9/dist-packages (from aiohttp!=4.0.0a0,!=4.0.0a1->fsspec[http]>2021.06.0->pytorch-lightning>=2.0.0->zoobot==1.0.2) (22.2.0)\n",
            "Requirement already satisfied: frozenlist>=1.1.1 in /usr/local/lib/python3.9/dist-packages (from aiohttp!=4.0.0a0,!=4.0.0a1->fsspec[http]>2021.06.0->pytorch-lightning>=2.0.0->zoobot==1.0.2) (1.3.3)\n",
            "Requirement already satisfied: smmap<6,>=3.0.1 in /usr/local/lib/python3.9/dist-packages (from gitdb<5,>=4.0.1->GitPython!=3.1.29,>=1.0.0->wandb->zoobot==1.0.2) (5.0.0)\n",
            "Building wheels for collected packages: zoobot\n",
            "  Building editable for zoobot (pyproject.toml) ... \u001b[?25l\u001b[?25hdone\n",
            "  Created wheel for zoobot: filename=zoobot-1.0.2-0.editable-py3-none-any.whl size=19636 sha256=3d8fca9a1fac980f13c87b52faeacc9b185de77495555304b9693fdc951adcc5\n",
            "  Stored in directory: /tmp/pip-ephem-wheel-cache-yhrsdq2q/wheels/39/97/99/babc0b1540b00fb58c49189324d224b67a35b76fa6edf183e1\n",
            "Successfully built zoobot\n",
            "Installing collected packages: zoobot\n",
            "  Attempting uninstall: zoobot\n",
            "    Found existing installation: zoobot 1.0.2\n",
            "    Uninstalling zoobot-1.0.2:\n",
            "      Successfully uninstalled zoobot-1.0.2\n",
            "Successfully installed zoobot-1.0.2\n"
          ]
        }
      ]
    },
    {
      "cell_type": "code",
      "source": [
        "!pip install galaxy-datasets[pytorch]"
      ],
      "metadata": {
        "colab": {
          "base_uri": "https://localhost:8080/"
        },
        "id": "5Ddbm3X5oPGb",
        "outputId": "f6b430f9-b42f-4683-d224-b4276b26964a"
      },
      "execution_count": null,
      "outputs": [
        {
          "output_type": "stream",
          "name": "stdout",
          "text": [
            "Looking in indexes: https://pypi.org/simple, https://us-python.pkg.dev/colab-wheels/public/simple/\n",
            "Requirement already satisfied: galaxy-datasets[pytorch] in /usr/local/lib/python3.9/dist-packages (0.0.12)\n",
            "Requirement already satisfied: simplejpeg in /usr/local/lib/python3.9/dist-packages (from galaxy-datasets[pytorch]) (1.6.6)\n",
            "Requirement already satisfied: pytorch-lightning>=1.6.5 in /usr/local/lib/python3.9/dist-packages (from galaxy-datasets[pytorch]) (2.0.1.post0)\n",
            "Requirement already satisfied: albumentations in /usr/local/lib/python3.9/dist-packages (from galaxy-datasets[pytorch]) (1.2.1)\n",
            "Requirement already satisfied: torch>=1.10.1 in /usr/local/lib/python3.9/dist-packages (from galaxy-datasets[pytorch]) (1.12.1+cu113)\n",
            "Requirement already satisfied: torchvision>=0.11.2 in /usr/local/lib/python3.9/dist-packages (from galaxy-datasets[pytorch]) (0.13.1+cu113)\n",
            "Requirement already satisfied: torchaudio>=0.10.1 in /usr/local/lib/python3.9/dist-packages (from galaxy-datasets[pytorch]) (0.12.1+cu113)\n",
            "Requirement already satisfied: packaging>=17.1 in /usr/local/lib/python3.9/dist-packages (from pytorch-lightning>=1.6.5->galaxy-datasets[pytorch]) (23.0)\n",
            "Requirement already satisfied: PyYAML>=5.4 in /usr/local/lib/python3.9/dist-packages (from pytorch-lightning>=1.6.5->galaxy-datasets[pytorch]) (6.0)\n",
            "Requirement already satisfied: torchmetrics>=0.7.0 in /usr/local/lib/python3.9/dist-packages (from pytorch-lightning>=1.6.5->galaxy-datasets[pytorch]) (0.11.0)\n",
            "Requirement already satisfied: typing-extensions>=4.0.0 in /usr/local/lib/python3.9/dist-packages (from pytorch-lightning>=1.6.5->galaxy-datasets[pytorch]) (4.5.0)\n",
            "Requirement already satisfied: lightning-utilities>=0.7.0 in /usr/local/lib/python3.9/dist-packages (from pytorch-lightning>=1.6.5->galaxy-datasets[pytorch]) (0.8.0)\n",
            "Requirement already satisfied: tqdm>=4.57.0 in /usr/local/lib/python3.9/dist-packages (from pytorch-lightning>=1.6.5->galaxy-datasets[pytorch]) (4.65.0)\n",
            "Requirement already satisfied: numpy>=1.17.2 in /usr/local/lib/python3.9/dist-packages (from pytorch-lightning>=1.6.5->galaxy-datasets[pytorch]) (1.22.4)\n",
            "Requirement already satisfied: fsspec[http]>2021.06.0 in /usr/local/lib/python3.9/dist-packages (from pytorch-lightning>=1.6.5->galaxy-datasets[pytorch]) (2023.4.0)\n",
            "Requirement already satisfied: requests in /usr/local/lib/python3.9/dist-packages (from torchvision>=0.11.2->galaxy-datasets[pytorch]) (2.27.1)\n",
            "Requirement already satisfied: pillow!=8.3.*,>=5.3.0 in /usr/local/lib/python3.9/dist-packages (from torchvision>=0.11.2->galaxy-datasets[pytorch]) (8.4.0)\n",
            "Requirement already satisfied: scikit-image>=0.16.1 in /usr/local/lib/python3.9/dist-packages (from albumentations->galaxy-datasets[pytorch]) (0.19.3)\n",
            "Requirement already satisfied: opencv-python-headless>=4.1.1 in /usr/local/lib/python3.9/dist-packages (from albumentations->galaxy-datasets[pytorch]) (4.7.0.72)\n",
            "Requirement already satisfied: qudida>=0.0.4 in /usr/local/lib/python3.9/dist-packages (from albumentations->galaxy-datasets[pytorch]) (0.0.4)\n",
            "Requirement already satisfied: scipy in /usr/local/lib/python3.9/dist-packages (from albumentations->galaxy-datasets[pytorch]) (1.10.1)\n",
            "Requirement already satisfied: aiohttp!=4.0.0a0,!=4.0.0a1 in /usr/local/lib/python3.9/dist-packages (from fsspec[http]>2021.06.0->pytorch-lightning>=1.6.5->galaxy-datasets[pytorch]) (3.8.4)\n",
            "Requirement already satisfied: scikit-learn>=0.19.1 in /usr/local/lib/python3.9/dist-packages (from qudida>=0.0.4->albumentations->galaxy-datasets[pytorch]) (1.2.2)\n",
            "Requirement already satisfied: imageio>=2.4.1 in /usr/local/lib/python3.9/dist-packages (from scikit-image>=0.16.1->albumentations->galaxy-datasets[pytorch]) (2.25.1)\n",
            "Requirement already satisfied: tifffile>=2019.7.26 in /usr/local/lib/python3.9/dist-packages (from scikit-image>=0.16.1->albumentations->galaxy-datasets[pytorch]) (2023.3.21)\n",
            "Requirement already satisfied: networkx>=2.2 in /usr/local/lib/python3.9/dist-packages (from scikit-image>=0.16.1->albumentations->galaxy-datasets[pytorch]) (3.1)\n",
            "Requirement already satisfied: PyWavelets>=1.1.1 in /usr/local/lib/python3.9/dist-packages (from scikit-image>=0.16.1->albumentations->galaxy-datasets[pytorch]) (1.4.1)\n",
            "Requirement already satisfied: certifi>=2017.4.17 in /usr/local/lib/python3.9/dist-packages (from requests->torchvision>=0.11.2->galaxy-datasets[pytorch]) (2022.12.7)\n",
            "Requirement already satisfied: urllib3<1.27,>=1.21.1 in /usr/local/lib/python3.9/dist-packages (from requests->torchvision>=0.11.2->galaxy-datasets[pytorch]) (1.26.15)\n",
            "Requirement already satisfied: charset-normalizer~=2.0.0 in /usr/local/lib/python3.9/dist-packages (from requests->torchvision>=0.11.2->galaxy-datasets[pytorch]) (2.0.12)\n",
            "Requirement already satisfied: idna<4,>=2.5 in /usr/local/lib/python3.9/dist-packages (from requests->torchvision>=0.11.2->galaxy-datasets[pytorch]) (3.4)\n",
            "Requirement already satisfied: multidict<7.0,>=4.5 in /usr/local/lib/python3.9/dist-packages (from aiohttp!=4.0.0a0,!=4.0.0a1->fsspec[http]>2021.06.0->pytorch-lightning>=1.6.5->galaxy-datasets[pytorch]) (6.0.4)\n",
            "Requirement already satisfied: aiosignal>=1.1.2 in /usr/local/lib/python3.9/dist-packages (from aiohttp!=4.0.0a0,!=4.0.0a1->fsspec[http]>2021.06.0->pytorch-lightning>=1.6.5->galaxy-datasets[pytorch]) (1.3.1)\n",
            "Requirement already satisfied: yarl<2.0,>=1.0 in /usr/local/lib/python3.9/dist-packages (from aiohttp!=4.0.0a0,!=4.0.0a1->fsspec[http]>2021.06.0->pytorch-lightning>=1.6.5->galaxy-datasets[pytorch]) (1.8.2)\n",
            "Requirement already satisfied: frozenlist>=1.1.1 in /usr/local/lib/python3.9/dist-packages (from aiohttp!=4.0.0a0,!=4.0.0a1->fsspec[http]>2021.06.0->pytorch-lightning>=1.6.5->galaxy-datasets[pytorch]) (1.3.3)\n",
            "Requirement already satisfied: attrs>=17.3.0 in /usr/local/lib/python3.9/dist-packages (from aiohttp!=4.0.0a0,!=4.0.0a1->fsspec[http]>2021.06.0->pytorch-lightning>=1.6.5->galaxy-datasets[pytorch]) (22.2.0)\n",
            "Requirement already satisfied: async-timeout<5.0,>=4.0.0a3 in /usr/local/lib/python3.9/dist-packages (from aiohttp!=4.0.0a0,!=4.0.0a1->fsspec[http]>2021.06.0->pytorch-lightning>=1.6.5->galaxy-datasets[pytorch]) (4.0.2)\n",
            "Requirement already satisfied: joblib>=1.1.1 in /usr/local/lib/python3.9/dist-packages (from scikit-learn>=0.19.1->qudida>=0.0.4->albumentations->galaxy-datasets[pytorch]) (1.2.0)\n",
            "Requirement already satisfied: threadpoolctl>=2.0.0 in /usr/local/lib/python3.9/dist-packages (from scikit-learn>=0.19.1->qudida>=0.0.4->albumentations->galaxy-datasets[pytorch]) (3.1.0)\n"
          ]
        }
      ]
    },
    {
      "cell_type": "code",
      "source": [
        "import os\n",
        "import sys\n",
        "zoobot_dir = '/content/zoobot'\n",
        "os.chdir(zoobot_dir)\n",
        "sys.path.append(zoobot_dir)\n",
        "!git pull"
      ],
      "metadata": {
        "colab": {
          "base_uri": "https://localhost:8080/"
        },
        "id": "WXgz8JuEGdqA",
        "outputId": "fa6154b3-9e40-4279-a6ba-4713e5958588"
      },
      "execution_count": null,
      "outputs": [
        {
          "output_type": "stream",
          "name": "stdout",
          "text": [
            "Already up to date.\n"
          ]
        }
      ]
    },
    {
      "cell_type": "code",
      "source": [
        "from galaxy_datasets import gz2  # or gz_hubble, gz_candels, ...\n",
        "\n",
        "catalog, label_cols = gz2(\n",
        "    root='gz2',\n",
        "    train=True,\n",
        "    download=True\n",
        ")"
      ],
      "metadata": {
        "colab": {
          "base_uri": "https://localhost:8080/"
        },
        "id": "fR_JN8QCob5K",
        "outputId": "6478c9e6-ab5f-4efb-b450-74c84e48823e"
      },
      "execution_count": null,
      "outputs": [
        {
          "output_type": "stream",
          "name": "stdout",
          "text": [
            "Downloading https://dl.dropboxusercontent.com/s/vu77e3sh2s5c250/gz2_train_catalog.parquet to gz2/gz2_train_catalog.parquet\n"
          ]
        },
        {
          "output_type": "stream",
          "name": "stderr",
          "text": [
            "100%|██████████| 22392239/22392239 [00:00<00:00, 71070430.06it/s]\n"
          ]
        },
        {
          "output_type": "stream",
          "name": "stdout",
          "text": [
            "Downloading https://dl.dropboxusercontent.com/s/t8eh6f3oupndpl3/gz2_test_catalog.parquet to gz2/gz2_test_catalog.parquet\n"
          ]
        },
        {
          "output_type": "stream",
          "name": "stderr",
          "text": [
            "100%|██████████| 5852873/5852873 [00:00<00:00, 15328048.87it/s]\n"
          ]
        },
        {
          "output_type": "stream",
          "name": "stdout",
          "text": [
            "Downloading https://dl.dropboxusercontent.com/s/5so7yof2afe761p/images_gz2.tar.gz to gz2/images_gz2.tar.gz\n"
          ]
        },
        {
          "output_type": "stream",
          "name": "stderr",
          "text": [
            "100%|██████████| 2671470353/2671470353 [01:41<00:00, 26358719.51it/s]\n"
          ]
        },
        {
          "output_type": "stream",
          "name": "stdout",
          "text": [
            "Extracting gz2/images_gz2.tar.gz to gz2\n"
          ]
        }
      ]
    },
    {
      "cell_type": "code",
      "source": [
        "from galaxy_datasets.pytorch import GZ2\n",
        "import matplotlib.pyplot as plt\n",
        "\n",
        "gz2_dataset = GZ2(\n",
        "    root='gz2',\n",
        "    train=True,\n",
        "    download=False\n",
        ")\n",
        "image, label = gz2_dataset[0]\n",
        "plt.imshow(image)\n",
        "print(label)"
      ],
      "metadata": {
        "colab": {
          "base_uri": "https://localhost:8080/",
          "height": 487
        },
        "id": "v_DLJVdq6iH-",
        "outputId": "52a6aee5-fb1e-44e5-8ae1-86fcc3d6d626"
      },
      "execution_count": null,
      "outputs": [
        {
          "output_type": "stream",
          "name": "stdout",
          "text": [
            "GZDESI and GZRings not available from galaxy_datasets.pytorch.datasets - skipping\n",
            "[37.  0.  1.  0.  0.  0.  0.  0.  0.  0.  0.  0.  0.  4. 33. 32.  5.  0.\n",
            "  0.  0.  0.  0.  0.  0.  0.  0.  0.  0.  0.  0.]\n"
          ]
        },
        {
          "output_type": "display_data",
          "data": {
            "text/plain": [
              "<Figure size 640x480 with 1 Axes>"
            ],
            "image/png": "[encoded data removed]"
          },
          "metadata": {}
        }
      ]
    },
    {
      "cell_type": "code",
      "source": [
        "from galaxy_datasets.pytorch.galaxy_datamodule import GalaxyDataModule\n",
        "\n",
        "datamodule = GalaxyDataModule(\n",
        "    label_cols=['smooth-or-featured-gz2_smooth'],\n",
        "    catalog=catalog\n",
        "    # optional args to specify augmentations\n",
        ")\n",
        "\n",
        "datamodule.prepare_data()\n",
        "datamodule.setup()\n",
        "for images, labels in datamodule.train_dataloader():\n",
        "    print(images.shape, labels.shape)\n",
        "    break"
      ],
      "metadata": {
        "colab": {
          "base_uri": "https://localhost:8080/"
        },
        "id": "gHwRA1C76_tk",
        "outputId": "3d16ac80-bb92-4ee1-e37c-957da4d6df35"
      },
      "execution_count": null,
      "outputs": [
        {
          "output_type": "stream",
          "name": "stderr",
          "text": [
            "/usr/local/lib/python3.9/dist-packages/torch/utils/data/dataloader.py:563: UserWarning: This DataLoader will create 4 worker processes in total. Our suggested max number of worker in current system is 2, which is smaller than what this DataLoader is going to create. Please be aware that excessive worker creation might get DataLoader running slow or even freeze, lower the worker number to avoid potential slowness/freeze if necessary.\n",
            "  warnings.warn(_create_warning_msg(\n"
          ]
        },
        {
          "output_type": "stream",
          "name": "stdout",
          "text": [
            "torch.Size([256, 1, 224, 224]) torch.Size([256])\n"
          ]
        }
      ]
    },
    {
      "cell_type": "code",
      "source": [
        "catalog.head()"
      ],
      "metadata": {
        "colab": {
          "base_uri": "https://localhost:8080/",
          "height": 473
        },
        "id": "jhS5En5d76RP",
        "outputId": "df56021f-0b8b-4cff-a45a-b31ec146f8e8"
      },
      "execution_count": null,
      "outputs": [
        {
          "output_type": "execute_result",
          "data": {
            "text/plain": [
              "           ra        dec  smooth-or-featured-gz2_smooth  \\\n",
              "0  194.055664  27.823219                             37   \n",
              "1  162.939468  21.025589                             40   \n",
              "2  132.911163  25.326416                             18   \n",
              "3  216.752670   0.869107                             36   \n",
              "4  236.762390   5.435655                             22   \n",
              "\n",
              "   smooth-or-featured-gz2_featured-or-disk  smooth-or-featured-gz2_artifact  \\\n",
              "0                                        0                                1   \n",
              "1                                        2                                1   \n",
              "2                                       22                                1   \n",
              "3                                        3                                4   \n",
              "4                                       14                                2   \n",
              "\n",
              "   disk-edge-on-gz2_yes  disk-edge-on-gz2_no  bar-gz2_yes  bar-gz2_no  \\\n",
              "0                     0                    0            0           0   \n",
              "1                     0                    2            0           2   \n",
              "2                     0                   22            4          18   \n",
              "3                     0                    3            0           3   \n",
              "4                    13                    1            0           1   \n",
              "\n",
              "   has-spiral-arms-gz2_yes  ...  something-odd-gz2_semantic  \\\n",
              "0                        0  ...        something-odd-gz2_no   \n",
              "1                        0  ...        something-odd-gz2_no   \n",
              "2                        6  ...       something-odd-gz2_yes   \n",
              "3                        0  ...        something-odd-gz2_no   \n",
              "4                        0  ...        something-odd-gz2_no   \n",
              "\n",
              "     how-rounded-gz2_semantic  bulge-shape-gz2_semantic  \\\n",
              "0       how-rounded-gz2_round                         -   \n",
              "1  how-rounded-gz2_in-between                         -   \n",
              "2                           -                         -   \n",
              "3  how-rounded-gz2_in-between                         -   \n",
              "4       how-rounded-gz2_cigar                         -   \n",
              "\n",
              "   spiral-winding-gz2_semantic  spiral-arm-count-gz2_semantic  \\\n",
              "0                            -                              -   \n",
              "1                            -                              -   \n",
              "2                            -                              -   \n",
              "3                            -                              -   \n",
              "4                            -                              -   \n",
              "\n",
              "                          summary  leaf_prob  label                filename  \\\n",
              "0                    smooth_round   0.842105      1  587741602572468407.jpg   \n",
              "1                smooth_inbetween   0.697674      0  587742061600833690.jpg   \n",
              "2  featured_without_bar_or_spiral   0.319290      6  587739115241013526.jpg   \n",
              "3                smooth_inbetween   0.511628      0  587722984440529062.jpg   \n",
              "4                    smooth_cigar   0.578947      2  587736547389866123.jpg   \n",
              "\n",
              "               id_str  \n",
              "0  587741602572468407  \n",
              "1  587742061600833690  \n",
              "2  587739115241013526  \n",
              "3  587722984440529062  \n",
              "4  587736547389866123  \n",
              "\n",
              "[5 rows x 90 columns]"
            ],
            "text/html": [
              "\n",
              "  <div id=\"df-494af757-d593-4b0c-b3b2-355b46d816ea\">\n",
              "    <div class=\"colab-df-container\">\n",
              "      <div>\n",
              "<style scoped>\n",
              "    .dataframe tbody tr th:only-of-type {\n",
              "        vertical-align: middle;\n",
              "    }\n",
              "\n",
              "    .dataframe tbody tr th {\n",
              "        vertical-align: top;\n",
              "    }\n",
              "\n",
              "    .dataframe thead th {\n",
              "        text-align: right;\n",
              "    }\n",
              "</style>\n",
              "<table border=\"1\" class=\"dataframe\">\n",
              "  <thead>\n",
              "    <tr style=\"text-align: right;\">\n",
              "      <th></th>\n",
              "      <th>ra</th>\n",
              "      <th>dec</th>\n",
              "      <th>smooth-or-featured-gz2_smooth</th>\n",
              "      <th>smooth-or-featured-gz2_featured-or-disk</th>\n",
              "      <th>smooth-or-featured-gz2_artifact</th>\n",
              "      <th>disk-edge-on-gz2_yes</th>\n",
              "      <th>disk-edge-on-gz2_no</th>\n",
              "      <th>bar-gz2_yes</th>\n",
              "      <th>bar-gz2_no</th>\n",
              "      <th>has-spiral-arms-gz2_yes</th>\n",
              "      <th>...</th>\n",
              "      <th>something-odd-gz2_semantic</th>\n",
              "      <th>how-rounded-gz2_semantic</th>\n",
              "      <th>bulge-shape-gz2_semantic</th>\n",
              "      <th>spiral-winding-gz2_semantic</th>\n",
              "      <th>spiral-arm-count-gz2_semantic</th>\n",
              "      <th>summary</th>\n",
              "      <th>leaf_prob</th>\n",
              "      <th>label</th>\n",
              "      <th>filename</th>\n",
              "      <th>id_str</th>\n",
              "    </tr>\n",
              "  </thead>\n",
              "  <tbody>\n",
              "    <tr>\n",
              "      <th>0</th>\n",
              "      <td>194.055664</td>\n",
              "      <td>27.823219</td>\n",
              "      <td>37</td>\n",
              "      <td>0</td>\n",
              "      <td>1</td>\n",
              "      <td>0</td>\n",
              "      <td>0</td>\n",
              "      <td>0</td>\n",
              "      <td>0</td>\n",
              "      <td>0</td>\n",
              "      <td>...</td>\n",
              "      <td>something-odd-gz2_no</td>\n",
              "      <td>how-rounded-gz2_round</td>\n",
              "      <td>-</td>\n",
              "      <td>-</td>\n",
              "      <td>-</td>\n",
              "      <td>smooth_round</td>\n",
              "      <td>0.842105</td>\n",
              "      <td>1</td>\n",
              "      <td>587741602572468407.jpg</td>\n",
              "      <td>587741602572468407</td>\n",
              "    </tr>\n",
              "    <tr>\n",
              "      <th>1</th>\n",
              "      <td>162.939468</td>\n",
              "      <td>21.025589</td>\n",
              "      <td>40</td>\n",
              "      <td>2</td>\n",
              "      <td>1</td>\n",
              "      <td>0</td>\n",
              "      <td>2</td>\n",
              "      <td>0</td>\n",
              "      <td>2</td>\n",
              "      <td>0</td>\n",
              "      <td>...</td>\n",
              "      <td>something-odd-gz2_no</td>\n",
              "      <td>how-rounded-gz2_in-between</td>\n",
              "      <td>-</td>\n",
              "      <td>-</td>\n",
              "      <td>-</td>\n",
              "      <td>smooth_inbetween</td>\n",
              "      <td>0.697674</td>\n",
              "      <td>0</td>\n",
              "      <td>587742061600833690.jpg</td>\n",
              "      <td>587742061600833690</td>\n",
              "    </tr>\n",
              "    <tr>\n",
              "      <th>2</th>\n",
              "      <td>132.911163</td>\n",
              "      <td>25.326416</td>\n",
              "      <td>18</td>\n",
              "      <td>22</td>\n",
              "      <td>1</td>\n",
              "      <td>0</td>\n",
              "      <td>22</td>\n",
              "      <td>4</td>\n",
              "      <td>18</td>\n",
              "      <td>6</td>\n",
              "      <td>...</td>\n",
              "      <td>something-odd-gz2_yes</td>\n",
              "      <td>-</td>\n",
              "      <td>-</td>\n",
              "      <td>-</td>\n",
              "      <td>-</td>\n",
              "      <td>featured_without_bar_or_spiral</td>\n",
              "      <td>0.319290</td>\n",
              "      <td>6</td>\n",
              "      <td>587739115241013526.jpg</td>\n",
              "      <td>587739115241013526</td>\n",
              "    </tr>\n",
              "    <tr>\n",
              "      <th>3</th>\n",
              "      <td>216.752670</td>\n",
              "      <td>0.869107</td>\n",
              "      <td>36</td>\n",
              "      <td>3</td>\n",
              "      <td>4</td>\n",
              "      <td>0</td>\n",
              "      <td>3</td>\n",
              "      <td>0</td>\n",
              "      <td>3</td>\n",
              "      <td>0</td>\n",
              "      <td>...</td>\n",
              "      <td>something-odd-gz2_no</td>\n",
              "      <td>how-rounded-gz2_in-between</td>\n",
              "      <td>-</td>\n",
              "      <td>-</td>\n",
              "      <td>-</td>\n",
              "      <td>smooth_inbetween</td>\n",
              "      <td>0.511628</td>\n",
              "      <td>0</td>\n",
              "      <td>587722984440529062.jpg</td>\n",
              "      <td>587722984440529062</td>\n",
              "    </tr>\n",
              "    <tr>\n",
              "      <th>4</th>\n",
              "      <td>236.762390</td>\n",
              "      <td>5.435655</td>\n",
              "      <td>22</td>\n",
              "      <td>14</td>\n",
              "      <td>2</td>\n",
              "      <td>13</td>\n",
              "      <td>1</td>\n",
              "      <td>0</td>\n",
              "      <td>1</td>\n",
              "      <td>0</td>\n",
              "      <td>...</td>\n",
              "      <td>something-odd-gz2_no</td>\n",
              "      <td>how-rounded-gz2_cigar</td>\n",
              "      <td>-</td>\n",
              "      <td>-</td>\n",
              "      <td>-</td>\n",
              "      <td>smooth_cigar</td>\n",
              "      <td>0.578947</td>\n",
              "      <td>2</td>\n",
              "      <td>587736547389866123.jpg</td>\n",
              "      <td>587736547389866123</td>\n",
              "    </tr>\n",
              "  </tbody>\n",
              "</table>\n",
              "<p>5 rows × 90 columns</p>\n",
              "</div>\n",
              "      <button class=\"colab-df-convert\" onclick=\"convertToInteractive('df-494af757-d593-4b0c-b3b2-355b46d816ea')\"\n",
              "              title=\"Convert this dataframe to an interactive table.\"\n",
              "              style=\"display:none;\">\n",
              "        \n",
              "  <svg xmlns=\"http://www.w3.org/2000/svg\" height=\"24px\"viewBox=\"0 0 24 24\"\n",
              "       width=\"24px\">\n",
              "    <path d=\"M0 0h24v24H0V0z\" fill=\"none\"/>\n",
              "    <path d=\"M18.56 5.44l.94 2.06.94-2.06 2.06-.94-2.06-.94-.94-2.06-.94 2.06-2.06.94zm-11 1L8.5 8.5l.94-2.06 2.06-.94-2.06-.94L8.5 2.5l-.94 2.06-2.06.94zm10 10l.94 2.06.94-2.06 2.06-.94-2.06-.94-.94-2.06-.94 2.06-2.06.94z\"/><path d=\"M17.41 7.96l-1.37-1.37c-.4-.4-.92-.59-1.43-.59-.52 0-1.04.2-1.43.59L10.3 9.45l-7.72 7.72c-.78.78-.78 2.05 0 2.83L4 21.41c.39.39.9.59 1.41.59.51 0 1.02-.2 1.41-.59l7.78-7.78 2.81-2.81c.8-.78.8-2.07 0-2.86zM5.41 20L4 18.59l7.72-7.72 1.47 1.35L5.41 20z\"/>\n",
              "  </svg>\n",
              "      </button>\n",
              "      \n",
              "  <style>\n",
              "    .colab-df-container {\n",
              "      display:flex;\n",
              "      flex-wrap:wrap;\n",
              "      gap: 12px;\n",
              "    }\n",
              "\n",
              "    .colab-df-convert {\n",
              "      background-color: #E8F0FE;\n",
              "      border: none;\n",
              "      border-radius: 50%;\n",
              "      cursor: pointer;\n",
              "      display: none;\n",
              "      fill: #1967D2;\n",
              "      height: 32px;\n",
              "      padding: 0 0 0 0;\n",
              "      width: 32px;\n",
              "    }\n",
              "\n",
              "    .colab-df-convert:hover {\n",
              "      background-color: #E2EBFA;\n",
              "      box-shadow: 0px 1px 2px rgba(60, 64, 67, 0.3), 0px 1px 3px 1px rgba(60, 64, 67, 0.15);\n",
              "      fill: #174EA6;\n",
              "    }\n",
              "\n",
              "    [theme=dark] .colab-df-convert {\n",
              "      background-color: #3B4455;\n",
              "      fill: #D2E3FC;\n",
              "    }\n",
              "\n",
              "    [theme=dark] .colab-df-convert:hover {\n",
              "      background-color: #434B5C;\n",
              "      box-shadow: 0px 1px 3px 1px rgba(0, 0, 0, 0.15);\n",
              "      filter: drop-shadow(0px 1px 2px rgba(0, 0, 0, 0.3));\n",
              "      fill: #FFFFFF;\n",
              "    }\n",
              "  </style>\n",
              "\n",
              "      <script>\n",
              "        const buttonEl =\n",
              "          document.querySelector('#df-494af757-d593-4b0c-b3b2-355b46d816ea button.colab-df-convert');\n",
              "        buttonEl.style.display =\n",
              "          google.colab.kernel.accessAllowed ? 'block' : 'none';\n",
              "\n",
              "        async function convertToInteractive(key) {\n",
              "          const element = document.querySelector('#df-494af757-d593-4b0c-b3b2-355b46d816ea');\n",
              "          const dataTable =\n",
              "            await google.colab.kernel.invokeFunction('convertToInteractive',\n",
              "                                                     [key], {});\n",
              "          if (!dataTable) return;\n",
              "\n",
              "          const docLinkHtml = 'Like what you see? Visit the ' +\n",
              "            '<a target=\"_blank\" href=https://colab.research.google.com/notebooks/data_table.ipynb>data table notebook</a>'\n",
              "            + ' to learn more about interactive tables.';\n",
              "          element.innerHTML = '';\n",
              "          dataTable['output_type'] = 'display_data';\n",
              "          await google.colab.output.renderOutput(dataTable, element);\n",
              "          const docLink = document.createElement('div');\n",
              "          docLink.innerHTML = docLinkHtml;\n",
              "          element.appendChild(docLink);\n",
              "        }\n",
              "      </script>\n",
              "    </div>\n",
              "  </div>\n",
              "  "
            ]
          },
          "metadata": {},
          "execution_count": 10
        }
      ]
    },
    {
      "cell_type": "code",
      "source": [
        "label_cols"
      ],
      "metadata": {
        "colab": {
          "base_uri": "https://localhost:8080/"
        },
        "id": "8ih6F4gZ8KmE",
        "outputId": "6ce3492c-5675-4b05-f183-bf8b08576bef"
      },
      "execution_count": null,
      "outputs": [
        {
          "output_type": "execute_result",
          "data": {
            "text/plain": [
              "['smooth-or-featured-gz2_smooth',\n",
              " 'smooth-or-featured-gz2_featured-or-disk',\n",
              " 'smooth-or-featured-gz2_artifact',\n",
              " 'disk-edge-on-gz2_yes',\n",
              " 'disk-edge-on-gz2_no',\n",
              " 'has-spiral-arms-gz2_yes',\n",
              " 'has-spiral-arms-gz2_no',\n",
              " 'bar-gz2_yes',\n",
              " 'bar-gz2_no',\n",
              " 'bulge-size-gz2_dominant',\n",
              " 'bulge-size-gz2_obvious',\n",
              " 'bulge-size-gz2_just-noticeable',\n",
              " 'bulge-size-gz2_no',\n",
              " 'something-odd-gz2_yes',\n",
              " 'something-odd-gz2_no',\n",
              " 'how-rounded-gz2_round',\n",
              " 'how-rounded-gz2_in-between',\n",
              " 'how-rounded-gz2_cigar',\n",
              " 'bulge-shape-gz2_round',\n",
              " 'bulge-shape-gz2_boxy',\n",
              " 'bulge-shape-gz2_no-bulge',\n",
              " 'spiral-winding-gz2_tight',\n",
              " 'spiral-winding-gz2_medium',\n",
              " 'spiral-winding-gz2_loose',\n",
              " 'spiral-arm-count-gz2_1',\n",
              " 'spiral-arm-count-gz2_2',\n",
              " 'spiral-arm-count-gz2_3',\n",
              " 'spiral-arm-count-gz2_4',\n",
              " 'spiral-arm-count-gz2_more-than-4',\n",
              " 'spiral-arm-count-gz2_cant-tell']"
            ]
          },
          "metadata": {},
          "execution_count": 11
        }
      ]
    },
    {
      "cell_type": "code",
      "source": [
        "checkpoint_dir = os.path.join(zoobot_dir, 'data/pretrained_models/pytorch') "
      ],
      "metadata": {
        "id": "tUi8ZPEp7IsG"
      },
      "execution_count": null,
      "outputs": []
    },
    {
      "cell_type": "code",
      "source": [
        "!wget --no-check-certificate 'https://dl.dropboxusercontent.com/s/7ixwo59imjfz4ay/effnetb0_greyscale_224px.ckpt?dl=0' -O $checkpoint_dir/checkpoint.ckpt"
      ],
      "metadata": {
        "colab": {
          "base_uri": "https://localhost:8080/"
        },
        "id": "g0j5itJo7pda",
        "outputId": "0f65b473-b232-46b6-89b0-59ef61294397"
      },
      "execution_count": null,
      "outputs": [
        {
          "output_type": "stream",
          "name": "stdout",
          "text": [
            "--2023-04-14 20:03:42--  https://dl.dropboxusercontent.com/s/7ixwo59imjfz4ay/effnetb0_greyscale_224px.ckpt?dl=0\n",
            "Resolving dl.dropboxusercontent.com (dl.dropboxusercontent.com)... 162.125.1.15, 2620:100:6016:15::a27d:10f\n",
            "Connecting to dl.dropboxusercontent.com (dl.dropboxusercontent.com)|162.125.1.15|:443... connected.\n",
            "HTTP request sent, awaiting response... 200 OK\n",
            "Length: 17384753 (17M) [application/octet-stream]\n",
            "Saving to: ‘/content/zoobot/data/pretrained_models/pytorch/checkpoint.ckpt’\n",
            "\n",
            "/content/zoobot/dat 100%[===================>]  16.58M  57.5MB/s    in 0.3s    \n",
            "\n",
            "2023-04-14 20:03:45 (57.5 MB/s) - ‘/content/zoobot/data/pretrained_models/pytorch/checkpoint.ckpt’ saved [17384753/17384753]\n",
            "\n"
          ]
        }
      ]
    },
    {
      "cell_type": "code",
      "source": [
        "import pandas as pd\n",
        "\n",
        "from zoobot.pytorch.training import finetune\n",
        "from galaxy_datasets.pytorch.galaxy_datamodule import GalaxyDataModule"
      ],
      "metadata": {
        "id": "OSpH5yEoAAy1"
      },
      "execution_count": null,
      "outputs": []
    },
    {
      "cell_type": "code",
      "source": [
        "checkpoint_loc = os.path.join(zoobot_dir, 'data/pretrained_models/pytorch/checkpoint.ckpt') \n",
        "save_dir = os.path.join(zoobot_dir, 'results/pytorch/finetune/finetune_binary_classification')"
      ],
      "metadata": {
        "id": "6W19aYegAnpC"
      },
      "execution_count": null,
      "outputs": []
    },
    {
      "cell_type": "code",
      "source": [
        "label_cols=['smooth-or-featured-gz2_smooth','smooth-or-featured-gz2_featured-or-disk','smooth-or-featured-gz2_artifact','disk-edge-on-gz2_yes','disk-edge-on-gz2_no','has-spiral-arms-gz2_yes','has-spiral-arms-gz2_no','bar-gz2_yes','bar-gz2_no','bulge-size-gz2_dominant','bulge-size-gz2_obvious','bulge-size-gz2_just-noticeable','bulge-size-gz2_no','something-odd-gz2_yes','something-odd-gz2_no','how-rounded-gz2_round','how-rounded-gz2_in-between','how-rounded-gz2_cigar','bulge-shape-gz2_round','bulge-shape-gz2_boxy','bulge-shape-gz2_no-bulge','spiral-winding-gz2_tight','spiral-winding-gz2_medium','spiral-winding-gz2_loose','spiral-arm-count-gz2_1','spiral-arm-count-gz2_2','spiral-arm-count-gz2_3','spiral-arm-count-gz2_4','spiral-arm-count-gz2_more-than-4','spiral-arm-count-gz2_cant-tell']  # name of column in catalog with binary (0 or 1) labels for your classes]\n",
        " # To support more complicated labels, Zoobot expects a list of columns. A list with one element works fine."
      ],
      "metadata": {
        "id": "e02SK6PPIhOA"
      },
      "execution_count": null,
      "outputs": []
    },
    {
      "cell_type": "code",
      "source": [
        "datamodule = GalaxyDataModule(\n",
        "  label_cols=label_cols,\n",
        "  catalog= catalog,\n",
        "  batch_size=32,\n",
        "  resize_after_crop=224,  # the size of the images input to the model\n",
        "  num_workers=2  # sets the parallelism for loading data. 2 works well on colab.\n",
        ")"
      ],
      "metadata": {
        "id": "p9rxlt64CZ6r"
      },
      "execution_count": null,
      "outputs": []
    },
    {
      "cell_type": "code",
      "source": [
        "assert all([os.path.isfile(loc) for loc in catalog['file_loc']])"
      ],
      "metadata": {
        "id": "GUNNCJpqDs03"
      },
      "execution_count": null,
      "outputs": []
    },
    {
      "cell_type": "code",
      "source": [
        "model = finetune.FinetuneableZoobotClassifier(\n",
        "  checkpoint_loc= checkpoint_loc,\n",
        "  num_classes=5,\n",
        "  n_layers=5 # only updating the head weights. Set 0 for only output layer. Set e.g. 1, 2 to finetune deeper. \n",
        ") "
      ],
      "metadata": {
        "id": "-rL09V0VD4Bb"
      },
      "execution_count": null,
      "outputs": []
    },
    {
      "cell_type": "code",
      "source": [
        "import torch\n",
        "import torch.nn as nn\n",
        "import pytorch_lightning as pl\n",
        "\n",
        "class MyLightningModule(pl.LightningModule):\n",
        "    def __init__(self):\n",
        "        super().__init__()\n",
        "        self.loss_fn = nn.BCEWithLogitsLoss()\n",
        "        self.conv1 = nn.Conv2d(1, 10, kernel_size=3, stride=1, padding=1)\n",
        "        self.activation = nn.Sigmoid()\n",
        "        self.fc = nn.Linear(10*224*224, 30)\n",
        "\n",
        "    def forward(self, x):\n",
        "        x = self.conv1(x)\n",
        "        x = self.activation(x)\n",
        "        x = torch.flatten(x, start_dim=1)\n",
        "        x = self.fc(x)\n",
        "        return x\n",
        "\n",
        "    def training_step(self, batch, batch_idx):\n",
        "        x, y = batch\n",
        "        logits = self(x)\n",
        "        loss = self.loss_fn(logits, y)\n",
        "        self.log('train_loss', loss, on_epoch=True, on_step=True)\n",
        "        return loss\n",
        "\n",
        "    def configure_optimizers(self):\n",
        "        optimizer = torch.optim.Adam(self.parameters(), lr=1e-3)\n",
        "        return optimizer\n",
        "\n",
        "model = MyLightningModule()\n",
        "trainer = finetune.get_trainer(save_dir, accelerator='auto', devices='auto', max_epochs=130)\n",
        "trainer.fit(model, datamodule)\n"
      ],
      "metadata": {
        "colab": {
          "base_uri": "https://localhost:8080/",
          "height": 376
        },
        "id": "6OviNGO9HGOQ",
        "outputId": "52826959-00e2-4fb0-c371-49d24626fc7b"
      },
      "execution_count": 1,
      "outputs": [
        {
          "output_type": "error",
          "ename": "ModuleNotFoundError",
          "evalue": "ignored",
          "traceback": [
            "\u001b[0;31m---------------------------------------------------------------------------\u001b[0m",
            "\u001b[0;31mModuleNotFoundError\u001b[0m                       Traceback (most recent call last)",
            "\u001b[0;32m<ipython-input-1-1dc52ace8fbb>\u001b[0m in \u001b[0;36m<cell line: 3>\u001b[0;34m()\u001b[0m\n\u001b[1;32m      1\u001b[0m \u001b[0;32mimport\u001b[0m \u001b[0mtorch\u001b[0m\u001b[0;34m\u001b[0m\u001b[0;34m\u001b[0m\u001b[0m\n\u001b[1;32m      2\u001b[0m \u001b[0;32mimport\u001b[0m \u001b[0mtorch\u001b[0m\u001b[0;34m.\u001b[0m\u001b[0mnn\u001b[0m \u001b[0;32mas\u001b[0m \u001b[0mnn\u001b[0m\u001b[0;34m\u001b[0m\u001b[0;34m\u001b[0m\u001b[0m\n\u001b[0;32m----> 3\u001b[0;31m \u001b[0;32mimport\u001b[0m \u001b[0mpytorch_lightning\u001b[0m \u001b[0;32mas\u001b[0m \u001b[0mpl\u001b[0m\u001b[0;34m\u001b[0m\u001b[0;34m\u001b[0m\u001b[0m\n\u001b[0m\u001b[1;32m      4\u001b[0m \u001b[0;34m\u001b[0m\u001b[0m\n\u001b[1;32m      5\u001b[0m \u001b[0;32mclass\u001b[0m \u001b[0mMyLightningModule\u001b[0m\u001b[0;34m(\u001b[0m\u001b[0mpl\u001b[0m\u001b[0;34m.\u001b[0m\u001b[0mLightningModule\u001b[0m\u001b[0;34m)\u001b[0m\u001b[0;34m:\u001b[0m\u001b[0;34m\u001b[0m\u001b[0;34m\u001b[0m\u001b[0m\n",
            "\u001b[0;31mModuleNotFoundError\u001b[0m: No module named 'pytorch_lightning'",
            "",
            "\u001b[0;31m---------------------------------------------------------------------------\u001b[0;32m\nNOTE: If your import is failing due to a missing package, you can\nmanually install dependencies using either !pip or !apt.\n\nTo view examples of installing some common dependencies, click the\n\"Open Examples\" button below.\n\u001b[0;31m---------------------------------------------------------------------------\u001b[0m\n"
          ],
          "errorDetails": {
            "actions": [
              {
                "action": "open_url",
                "actionText": "Open Examples",
                "url": "/notebooks/snippets/importing_libraries.ipynb"
              }
            ]
          }
        }
      ]
    },
    {
      "cell_type": "code",
      "source": [
        "'smooth-or-featured-gz2_smooth','smooth-or-featured-gz2_featured-or-disk','smooth-or-featured-gz2_artifact','disk-edge-on-gz2_yes','disk-edge-on-gz2_no','has-spiral-arms-gz2_yes','has-spiral-arms-gz2_no','bar-gz2_yes','bar-gz2_no','bulge-size-gz2_dominant','bulge-size-gz2_obvious','bulge-size-gz2_just-noticeable','bulge-size-gz2_no','something-odd-gz2_yes','something-odd-gz2_no','how-rounded-gz2_round','how-rounded-gz2_in-between','how-rounded-gz2_cigar','bulge-shape-gz2_round','bulge-shape-gz2_boxy','bulge-shape-gz2_no-bulge','spiral-winding-gz2_tight','spiral-winding-gz2_medium','spiral-winding-gz2_loose','spiral-arm-count-gz2_1','spiral-arm-count-gz2_2','spiral-arm-count-gz2_3','spiral-arm-count-gz2_4','spiral-arm-count-gz2_more-than-4','spiral-arm-count-gz2_cant-tell']  # name of column in catalog with binary (0 or 1) labels for your classes"
      ],
      "metadata": {
        "id": "UCghJ1LhLU5M"
      },
      "execution_count": null,
      "outputs": []
    }
  ]
}